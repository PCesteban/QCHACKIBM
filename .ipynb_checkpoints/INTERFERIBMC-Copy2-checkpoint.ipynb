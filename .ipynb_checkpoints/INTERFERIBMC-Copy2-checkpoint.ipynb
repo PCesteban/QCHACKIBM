{
 "cells": [
  {
   "cell_type": "code",
   "execution_count": 19,
   "id": "superb-agency",
   "metadata": {},
   "outputs": [],
   "source": [
    "from __future__ import print_function\n",
    "from ipywidgets import interact, interactive, fixed, interact_manual\n",
    "import ipywidgets as widgets"
   ]
  },
  {
   "cell_type": "raw",
   "id": "corporate-leather",
   "metadata": {
    "jupyter": {
     "source_hidden": true
    }
   },
   "source": [
    "#Doc part"
   ]
  },
  {
   "cell_type": "code",
   "execution_count": null,
   "id": "dress-maintenance",
   "metadata": {
    "jupyter": {
     "source_hidden": true
    }
   },
   "outputs": [],
   "source": [
    "from qiskit import QuantumRegister, ClassicalRegister, QuantumCircuit\n",
    "from numpy import pi\n",
    "\n",
    "qreg_q = QuantumRegister(5, 'q')\n",
    "creg_c = ClassicalRegister(5, 'c')\n",
    "circuit = QuantumCircuit(qreg_q, creg_c)\n",
    "\n",
    "circuit.h(qreg_q[0])\n",
    "circuit.h(qreg_q[1])\n",
    "circuit.h(qreg_q[2])\n",
    "circuit.h(qreg_q[3])\n",
    "circuit.y(qreg_q[4])\n",
    "circuit.h(qreg_q[4])\n",
    "circuit.barrier(qreg_q[4], qreg_q[3], qreg_q[2], qreg_q[1], qreg_q[0])\n",
    "circuit.cx(qreg_q[1], qreg_q[4])\n",
    "circuit.cx(qreg_q[2], qreg_q[4])\n",
    "circuit.barrier(qreg_q[4], qreg_q[3], qreg_q[2], qreg_q[1], qreg_q[0])\n",
    "circuit.h(qreg_q[0])\n",
    "circuit.h(qreg_q[1])\n",
    "circuit.h(qreg_q[2])\n",
    "circuit.h(qreg_q[3])\n",
    "circuit.measure(qreg_q[0], creg_c[0])\n",
    "circuit.measure(qreg_q[1], creg_c[1])\n",
    "circuit.measure(qreg_q[2], creg_c[2])\n",
    "circuit.measure(qreg_q[3], creg_c[3])"
   ]
  },
  {
   "cell_type": "code",
   "execution_count": null,
   "id": "organizational-jerusalem",
   "metadata": {
    "jupyter": {
     "source_hidden": true
    }
   },
   "outputs": [],
   "source": [
    "circuit.draw('mpl', idle_wires=False)"
   ]
  },
  {
   "cell_type": "raw",
   "id": "extra-footwear",
   "metadata": {},
   "source": [
    "#Gate part "
   ]
  },
  {
   "cell_type": "code",
   "execution_count": 2,
   "id": "innovative-emphasis",
   "metadata": {
    "jupyter": {
     "source_hidden": true
    }
   },
   "outputs": [
    {
     "data": {
      "application/vnd.jupyter.widget-view+json": {
       "model_id": "211f6bc684ce4bd3a419b6efc497b7ee",
       "version_major": 2,
       "version_minor": 0
      },
      "text/plain": [
       "interactive(children=(FloatSlider(value=3.14, description='Phase 1:', layout=Layout(width='75%'), max=6.283185…"
      ]
     },
     "metadata": {},
     "output_type": "display_data"
    }
   ],
   "source": [
    "import ipywidgets as widgets\n",
    "from IPython.display import display\n",
    "\n",
    "%matplotlib inline\n",
    "from qiskit import QuantumCircuit, QuantumRegister, Aer\n",
    "from qiskit.quantum_info.operators import Operator\n",
    "from qiskit.visualization import plot_histogram\n",
    "from numpy import sin, cos, pi, linspace\n",
    "import qiskit as qkt\n",
    "import matplotlib.pyplot as plt\n",
    "\n",
    "def f(phase_1, phase_2):\n",
    "    figure, ax = plt.subplots(3, constrained_layout=True)\n",
    "    x = linspace(-2*pi, 2*pi, 1000)\n",
    "    f = 1\n",
    "    y_1 = cos(f * x + phase_1)\n",
    "    y_2 = cos(f * x + phase_2)\n",
    "    \n",
    "    ax[0].plot(x, y_1)\n",
    "    ax[0].plot(x, y_2)\n",
    "    \n",
    "    ax[1].set_ylim([-2.2, 2.2])\n",
    "    ax[1].plot(x, y_1+y_2, 'purple')\n",
    "    \n",
    "    dphi = abs(phase_1-phase_2)%(2*pi)\n",
    "    theta = dphi/4\n",
    "    circuit = QuantumCircuit(1,1)\n",
    "    H_prime = Operator([[cos(theta),sin(theta)], \n",
    "                   [sin(theta),-cos(theta)]])\n",
    "\n",
    "    circuit.h(0)\n",
    "    circuit.unitary(H_prime, 0, label='H_prime')\n",
    "\n",
    "    circuit.measure_all()\n",
    "\n",
    "    #circuit.draw('mpl', idle_wires=False)\n",
    "\n",
    "    sim = qkt.Aer.get_backend('qasm_simulator')\n",
    "    qobj = qkt.assemble(circuit) \n",
    "    result = sim.run(qobj).result() \n",
    "\n",
    "    counts = result.get_counts()\n",
    "    ax[2].bar(counts.keys(),counts.values())\n",
    "    print(dphi)\n",
    "\n",
    "phase_1 = widgets.FloatSlider(min=0, max=2*pi, step=0.01, value=3.14, description='Phase 1:', layout=widgets.Layout(width='75%'))\n",
    "phase_2 = widgets.FloatSlider(min=0, max=2*pi, step=0.01, value=3.14, description='Phase 2:', layout=widgets.Layout(width='75%'))\n",
    "widgets.interactive(f, phase_1=phase_1, phase_2=phase_2)"
   ]
  },
  {
   "cell_type": "code",
   "execution_count": 112,
   "id": "incident-yeast",
   "metadata": {},
   "outputs": [
    {
     "data": {
      "image/png": "[encoded data removed]",
      "text/plain": [
       "<Figure size 417.879x144.48 with 1 Axes>"
      ]
     },
     "execution_count": 112,
     "metadata": {},
     "output_type": "execute_result"
    }
   ],
   "source": [
    "circuit.draw('mpl', idle_wires=False)"
   ]
  },
  {
   "cell_type": "code",
   "execution_count": 20,
   "id": "automated-security",
   "metadata": {},
   "outputs": [
    {
     "data": {
      "application/vnd.jupyter.widget-view+json": {
       "model_id": "d00d9743e1b94a189054b4c3e6744e0e",
       "version_major": 2,
       "version_minor": 0
      },
      "text/plain": [
       "interactive(children=(FloatSlider(value=3.14, description='Phase 1:', layout=Layout(width='75%'), max=6.283185…"
      ]
     },
     "metadata": {},
     "output_type": "display_data"
    }
   ],
   "source": [
    "import ipywidgets as widgets\n",
    "from IPython.display import display\n",
    "\n",
    "%matplotlib inline\n",
    "from qiskit import QuantumCircuit, QuantumRegister, Aer\n",
    "from qiskit.quantum_info.operators import Operator\n",
    "from qiskit.visualization import plot_histogram\n",
    "from numpy import sin, cos, pi, linspace\n",
    "import qiskit as qkt\n",
    "import matplotlib.pyplot as plt\n",
    "\n",
    "def f(phase_1, phase_2):\n",
    "    figure, ax = plt.subplots(3, constrained_layout=True)\n",
    "    x = linspace(-2*pi, 2*pi, 1000)\n",
    "    f = 1\n",
    "    y_1 = cos(f * x + phase_1)\n",
    "    y_2 = cos(f * x + phase_2)\n",
    "    \n",
    "    ax[0].plot(x, y_1)\n",
    "    ax[0].plot(x, y_2)\n",
    "    \n",
    "    ax[1].set_ylim([-2.2, 2.2])\n",
    "    ax[1].plot(x, y_1+y_2, 'purple')\n",
    "    \n",
    "    dphi = abs(phase_1-phase_2)%(2*pi)\n",
    "    theta = dphi/4\n",
    "    H_prime = Operator([[cos(theta),sin(theta)], \n",
    "                   [sin(theta),-cos(theta)]])\n",
    "    \n",
    "    n = 2\n",
    "    grover_circuit = QuantumCircuit(n)\n",
    "    for q in range(n):\n",
    "        grover_circuit.unitary(H_prime, q, label='H_prime')\n",
    "    grover_circuit.cz(0,1) # Oracle\n",
    "    grover_circuit.unitary(H_prime, 0, label='H_prime')\n",
    "    grover_circuit.unitary(H_prime, 1, label='H_prime')\n",
    "    grover_circuit.z([0,1])\n",
    "    grover_circuit.cz(0,1)\n",
    "    grover_circuit.unitary(H_prime, 0, label='H_prime')\n",
    "    grover_circuit.unitary(H_prime, 1, label='H_prime')\n",
    "    \n",
    "    grover_circuit.measure_all()\n",
    "\n",
    "    #grover_circuit.draw('mpl', idle_wires=False)\n",
    "\n",
    "    sim = qkt.Aer.get_backend('qasm_simulator')\n",
    "    qobj = qkt.assemble(grover_circuit) \n",
    "    result = sim.run(qobj).result() \n",
    "\n",
    "    counts = result.get_counts()\n",
    "    ax[2].bar(counts.keys(),counts.values())\n",
    "    print(dphi)\n",
    "\n",
    "phase_1 = widgets.FloatSlider(min=0, max=2*pi, step=0.01, value=3.14, description='Phase 1:', layout=widgets.Layout(width='75%'))\n",
    "phase_2 = widgets.FloatSlider(min=0, max=2*pi, step=0.01, value=0, description='Phase 2:', layout=widgets.Layout(width='75%'))\n",
    "widgets.interactive(f, phase_1=phase_1, phase_2=phase_2)"
   ]
  },
  {
   "cell_type": "code",
   "execution_count": 16,
   "id": "middle-theology",
   "metadata": {},
   "outputs": [
    {
     "data": {
      "image/png": "[encoded data removed]",
      "text/plain": [
       "<Figure size 839.279x204.68 with 1 Axes>"
      ]
     },
     "execution_count": 16,
     "metadata": {},
     "output_type": "execute_result"
    }
   ],
   "source": [
    "grover_circuit.draw('mpl', idle_wires=False)"
   ]
  },
  {
   "cell_type": "code",
   "execution_count": null,
   "id": "handed-bangkok",
   "metadata": {},
   "outputs": [],
   "source": []
  }
 ],
 "metadata": {
  "kernelspec": {
   "display_name": "Python 3",
   "language": "python",
   "name": "python3"
  },
  "language_info": {
   "codemirror_mode": {
    "name": "ipython",
    "version": 3
   },
   "file_extension": ".py",
   "mimetype": "text/x-python",
   "name": "python",
   "nbconvert_exporter": "python",
   "pygments_lexer": "ipython3",
   "version": "3.7.6"
  }
 },
 "nbformat": 4,
 "nbformat_minor": 5
}
