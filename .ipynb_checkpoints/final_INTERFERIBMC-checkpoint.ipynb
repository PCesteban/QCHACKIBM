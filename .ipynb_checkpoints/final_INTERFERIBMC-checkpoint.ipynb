{
 "cells": [
  {
   "cell_type": "code",
   "execution_count": 19,
   "id": "latest-equality",
   "metadata": {},
   "outputs": [],
   "source": [
    "from __future__ import print_function\n",
    "from ipywidgets import interact, interactive, fixed, interact_manual\n",
    "import ipywidgets as widgets\n",
    "\n",
    "import ipywidgets as widgets\n",
    "from IPython.display import display\n",
    "\n",
    "%matplotlib inline\n",
    "from qiskit import QuantumCircuit, QuantumRegister, Aer\n",
    "from qiskit.quantum_info.operators import Operator\n",
    "from qiskit.visualization import plot_histogram\n",
    "from numpy import sin, cos, pi, linspace\n",
    "import qiskit as qkt\n",
    "import matplotlib.pyplot as plt"
   ]
  },
  {
   "cell_type": "markdown",
   "id": "separated-receiver",
   "metadata": {},
   "source": [
    "Run this first ⮥"
   ]
  },
  {
   "cell_type": "markdown",
   "id": "proved-characterization",
   "metadata": {},
   "source": [
    "# IBM QCHack creative challenge \n",
    "## Team name: Quackers\n",
    "## Project: Make your own Hadamard gate\n",
    "### Team members:\n",
    "-  Esteban Payares\n",
    "-  Vismai Khanderao\n",
    "-  Denis Jankovic "
   ]
  },
  {
   "cell_type": "markdown",
   "id": "nominated-correlation",
   "metadata": {},
   "source": [
    "## Introduction"
   ]
  },
  {
   "cell_type": "markdown",
   "id": "funded-nudist",
   "metadata": {},
   "source": [
    "<div style=\"text-align: justify;\">Quantum computing relies on three purely quantum phenomena :\n",
    "\n",
    "        - Superposition\n",
    "        - Interference\n",
    "        - Entanglement\n",
    "    \n",
    "Let's focus for this challenge on interference and see how important it is in quantum algorithms\n",
    "    </div>"
   ]
  },
  {
   "cell_type": "markdown",
   "id": "fancy-campbell",
   "metadata": {},
   "source": [
    "### Hadamard gate and interference"
   ]
  },
  {
   "cell_type": "markdown",
   "id": "hispanic-messaging",
   "metadata": {},
   "source": [
    "The Hadamard gate can showcase a good example for quantum interference. A qubit can be in a superposition of it's two basis states : $$\\alpha \\left|0\\right> + \\beta \\left|1\\right> \\qquad \\textrm{or} \\qquad \\begin{pmatrix} \\alpha \\\\ \\beta \\end{pmatrix}$$"
   ]
  },
  {
   "cell_type": "markdown",
   "id": "pretty-devices",
   "metadata": {},
   "source": [
    "The Hadamard gate $H$ takes the following matrix form :\n",
    "$$ H = \\frac{1}{\\sqrt{2}} \\begin{pmatrix} 1 && 1 \\\\ 1 && -1 \\end{pmatrix} $$"
   ]
  },
  {
   "cell_type": "markdown",
   "id": "stopped-horizontal",
   "metadata": {},
   "source": [
    "If one applies a Hadamard gate on a qubit on the simple $\\left|0\\right> = \\begin{pmatrix} 1 \\\\0 \\end{pmatrix}$ state, one obtains a nice superposition of both basis states :\n",
    "$$H\\left|0\\right> = \\frac{1}{\\sqrt{2}} \\left|0\\right> + \\frac{1}{\\sqrt{2}} \\left|1\\right> \\qquad \\textrm{or} \\qquad \\frac{1}{\\sqrt{2}} \\begin{pmatrix} 1 \\\\ 1 \\end{pmatrix}$$\n",
    "\n",
    "And on the  $\\left|1\\right> = \\begin{pmatrix} 1 \\\\0 \\end{pmatrix}$ state, the Hadamard gate gives a slightly different superposition :\n",
    "$$H\\left|1\\right> = \\frac{1}{\\sqrt{2}} \\left|0\\right> - \\frac{1}{\\sqrt{2}} \\left|1\\right> \\qquad \\textrm{or} \\qquad \\frac{1}{\\sqrt{2}} \\begin{pmatrix} 1 \\\\ -1 \\end{pmatrix}$$"
   ]
  },
  {
   "cell_type": "markdown",
   "id": "driven-poker",
   "metadata": {},
   "source": [
    "Now, if one reapplies a Hadamard gate on either of those states, <b>quantum interference appears :</b>\n",
    "\n",
    "$$H\\left(\\frac{1}{\\sqrt{2}} \\left|0\\right> + \\frac{1}{\\sqrt{2}} \\left|1\\right>\\right) = \\frac{1}{\\sqrt{2}} H\\left|0\\right> + \\frac{1}{\\sqrt{2}} H\\left|1\\right> = \\frac{1}{\\sqrt{2}}\\left(\\frac{1}{\\sqrt{2}} \\left|0\\right> + \\frac{1}{\\sqrt{2}} \\left|1\\right>\\right) + \\frac{1}{\\sqrt{2}} \\left(\\frac{1}{\\sqrt{2}} \\left|0\\right> - \\frac{1}{\\sqrt{2}} \\left|1\\right>\\right) $$"
   ]
  },
  {
   "cell_type": "markdown",
   "id": "early-intersection",
   "metadata": {},
   "source": [
    "This simplifies to : $$ \\frac{1}{2} \\left|0\\right> + \\frac{1}{2} \\left|1\\right> + \\frac{1}{2} \\left|0\\right> - \\frac{1}{2} \\left|1\\right> = \\left|0\\right> $$"
   ]
  },
  {
   "cell_type": "markdown",
   "id": "boolean-commitment",
   "metadata": {},
   "source": [
    "Did you see the interference ? Exactly ! The two $\\frac{1}{2} \\left|0\\right>$ have interfered constructively to give $\\left|0\\right>$ and the two $\\frac{1}{2} \\left|1\\right>$ have interfered destructively and thus they disappeared."
   ]
  },
  {
   "cell_type": "markdown",
   "id": "characteristic-float",
   "metadata": {},
   "source": [
    "### Grover's Search Algorithm"
   ]
  },
  {
   "cell_type": "markdown",
   "id": "analyzed-argentina",
   "metadata": {},
   "source": [
    "Without going into detail about how the algorithm works ([See here](https://qiskit.org/textbook/ch-algorithms/grover.html#3qubits)). If you have two qubits, you can encode 4 elements of a database by indexing them with $\\left|00\\right>, \\left|01\\right>, \\left|10\\right>, \\left|11\\right>$. \n",
    "\n",
    "You can then apply a succession on gates in order to find one of those elements. In our case, it will be the one marked with $\\left|11\\right>$. \n",
    "\n",
    "This is great, because sometimes, the speed it takes to apply all those gates is much faster than the time it would take a classical computer to find the marked element. Especially when the number of elements in the database is great !"
   ]
  },
  {
   "cell_type": "markdown",
   "id": "departmental-planet",
   "metadata": {},
   "source": [
    "This is what the circuit for Grover's Algorithm looks like :"
   ]
  }
 ],
 "metadata": {
  "kernelspec": {
   "display_name": "Python 3",
   "language": "python",
   "name": "python3"
  },
  "language_info": {
   "codemirror_mode": {
    "name": "ipython",
    "version": 3
   },
   "file_extension": ".py",
   "mimetype": "text/x-python",
   "name": "python",
   "nbconvert_exporter": "python",
   "pygments_lexer": "ipython3",
   "version": "3.7.6"
  }
 },
 "nbformat": 4,
 "nbformat_minor": 5
}
