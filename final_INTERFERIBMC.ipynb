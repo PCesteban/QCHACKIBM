{
 "cells": [
  {
   "cell_type": "code",
   "execution_count": 1,
   "id": "tight-detroit",
   "metadata": {
    "jupyter": {
     "source_hidden": true
    }
   },
   "outputs": [],
   "source": [
    "from __future__ import print_function\n",
    "from ipywidgets import interact, interactive, fixed, interact_manual\n",
    "import ipywidgets as widgets\n",
    "\n",
    "import ipywidgets as widgets\n",
    "from IPython.display import display\n",
    "\n",
    "%matplotlib inline\n",
    "from qiskit import QuantumCircuit, QuantumRegister, Aer\n",
    "from qiskit.quantum_info.operators import Operator\n",
    "from qiskit.visualization import plot_histogram\n",
    "from numpy import sin, cos, pi, linspace\n",
    "import qiskit as qkt\n",
    "import matplotlib.pyplot as plt\n",
    "from random import seed,uniform\n",
    "\n",
    "seed(42)"
   ]
  },
  {
   "cell_type": "markdown",
   "id": "everyday-cartoon",
   "metadata": {},
   "source": [
    "Run this first ⮥"
   ]
  },
  {
   "cell_type": "markdown",
   "id": "bridal-aquarium",
   "metadata": {},
   "source": [
    "# IBM QCHack creative challenge \n",
    "## Team name: Quackers\n",
    "## Project: Make your own Hadamard gate\n",
    "### Team members:\n",
    "-  Esteban Payares\n",
    "-  Vismai Khanderao\n",
    "-  Denis Jankovic "
   ]
  },
  {
   "cell_type": "markdown",
   "id": "authentic-honey",
   "metadata": {},
   "source": [
    "## Introduction"
   ]
  },
  {
   "cell_type": "markdown",
   "id": "affecting-joseph",
   "metadata": {},
   "source": [
    "<div style=\"text-align: justify;\">Quantum computing relies on three purely quantum phenomena :\n",
    "\n",
    "        - Superposition\n",
    "        - Interference\n",
    "        - Entanglement\n",
    "    \n",
    "Let's focus for this challenge on interference and see how important it is in quantum algorithms\n",
    "    </div>"
   ]
  },
  {
   "cell_type": "markdown",
   "id": "adjustable-unemployment",
   "metadata": {},
   "source": [
    "### Hadamard gate and interference"
   ]
  },
  {
   "cell_type": "markdown",
   "id": "visible-circle",
   "metadata": {},
   "source": [
    "The Hadamard gate can showcase a good example for quantum interference. A qubit can be in a superposition of it's two basis states : $$\\alpha \\left|0\\right> + \\beta \\left|1\\right> \\qquad \\textrm{or} \\qquad \\begin{pmatrix} \\alpha \\\\ \\beta \\end{pmatrix}$$"
   ]
  },
  {
   "cell_type": "markdown",
   "id": "tamil-midnight",
   "metadata": {},
   "source": [
    "The Hadamard gate $H$ takes the following matrix form :\n",
    "$$ H = \\frac{1}{\\sqrt{2}} \\begin{pmatrix} 1 && 1 \\\\ 1 && -1 \\end{pmatrix} $$"
   ]
  },
  {
   "cell_type": "markdown",
   "id": "heavy-brooklyn",
   "metadata": {},
   "source": [
    "If one applies a Hadamard gate on a qubit on the simple $\\left|0\\right> = \\begin{pmatrix} 1 \\\\0 \\end{pmatrix}$ state, one obtains a nice superposition of both basis states :\n",
    "$$H\\left|0\\right> = \\frac{1}{\\sqrt{2}} \\left|0\\right> + \\frac{1}{\\sqrt{2}} \\left|1\\right> \\qquad \\textrm{or} \\qquad \\frac{1}{\\sqrt{2}} \\begin{pmatrix} 1 \\\\ 1 \\end{pmatrix}$$\n",
    "\n",
    "And on the  $\\left|1\\right> = \\begin{pmatrix} 1 \\\\0 \\end{pmatrix}$ state, the Hadamard gate gives a slightly different superposition :\n",
    "$$H\\left|1\\right> = \\frac{1}{\\sqrt{2}} \\left|0\\right> - \\frac{1}{\\sqrt{2}} \\left|1\\right> \\qquad \\textrm{or} \\qquad \\frac{1}{\\sqrt{2}} \\begin{pmatrix} 1 \\\\ -1 \\end{pmatrix}$$"
   ]
  },
  {
   "cell_type": "markdown",
   "id": "yellow-standard",
   "metadata": {},
   "source": [
    "Now, if one reapplies a Hadamard gate on either of those states, <b>quantum interference appears :</b>\n",
    "\n",
    "$$H\\left(\\frac{1}{\\sqrt{2}} \\left|0\\right> + \\frac{1}{\\sqrt{2}} \\left|1\\right>\\right) = \\frac{1}{\\sqrt{2}} H\\left|0\\right> + \\frac{1}{\\sqrt{2}} H\\left|1\\right> = \\frac{1}{\\sqrt{2}}\\left(\\frac{1}{\\sqrt{2}} \\left|0\\right> + \\frac{1}{\\sqrt{2}} \\left|1\\right>\\right) + \\frac{1}{\\sqrt{2}} \\left(\\frac{1}{\\sqrt{2}} \\left|0\\right> - \\frac{1}{\\sqrt{2}} \\left|1\\right>\\right) $$"
   ]
  },
  {
   "cell_type": "markdown",
   "id": "presidential-grain",
   "metadata": {},
   "source": [
    "This simplifies to : $$ \\frac{1}{2} \\left|0\\right> + \\frac{1}{2} \\left|1\\right> + \\frac{1}{2} \\left|0\\right> - \\frac{1}{2} \\left|1\\right> = \\left|0\\right> $$"
   ]
  },
  {
   "cell_type": "markdown",
   "id": "particular-clinic",
   "metadata": {},
   "source": [
    "Did you see the interference ? Exactly ! The two $\\frac{1}{2} \\left|0\\right>$ have interfered constructively to give $\\left|0\\right>$ and the two $\\frac{1}{2} \\left|1\\right>$ have interfered destructively and thus they disappeared.\n",
    "\n",
    "NB: If you applied two consecutive $H$ gates on $\\left|1\\right>$ you would have ended up on $\\left|1\\right>$ again, this time the two $\\frac{1}{2} \\left|0\\right>$ would have interfered destructively and the two $\\frac{1}{2} \\left|1\\right>$ have interfered constructively. Try it out!"
   ]
  },
  {
   "cell_type": "markdown",
   "id": "fatal-venezuela",
   "metadata": {},
   "source": [
    "### When interference fails"
   ]
  },
  {
   "cell_type": "markdown",
   "id": "offshore-ceiling",
   "metadata": {},
   "source": [
    "Now to showcase how important interference is, suppose you start with the superposed qubit : \n",
    "$$\\frac{1}{\\sqrt{2}} \\left|0\\right> + \\frac{1}{\\sqrt{2}} \\left|1\\right> $$\n",
    "\n",
    "You want to end up with $\\left|0\\right>$, so you want to make the $\\left|0\\right>$'s interfere constructively while the $\\left|1\\right>$'s interfere destructively. We saw you need a Hadamard gate for this. But let's keep in mind that you need to implement such a gate physically if you want to run the whole thing in the real world.\n",
    "\n",
    "In the physical world, things are rarely perfectly perfect, so the Hadamard gate might not be exactly :\n",
    "$$ H = \\frac{1}{\\sqrt{2}} \\begin{pmatrix} 1 && 1 \\\\ 1 && -1 \\end{pmatrix} \\approx \\begin{pmatrix} 0.71 && 0.71 \\\\ 0.71 && -0.71 \\end{pmatrix} $$\n",
    "\n",
    "It can for example be slighty off, in other words, the contrusctive and destrcutive interferences are not exactly totally constructive and destructive. If your Hadamard gate looked something like this :\n",
    "\n",
    "$$ H' = \\begin{pmatrix} 0.65 && 0.76 \\\\ 0.76 && -0.65\\end{pmatrix} $$\n",
    "\n",
    "When you apply $H'$ on your superposed state you would obtain such a series of measurments :"
   ]
  },
  {
   "cell_type": "code",
   "execution_count": 2,
   "id": "straight-manufacturer",
   "metadata": {
    "jupyter": {
     "source_hidden": true
    }
   },
   "outputs": [
    {
     "data": {
      "image/png": "[encoded data removed]",
      "text/plain": [
       "<Figure size 504x360 with 1 Axes>"
      ]
     },
     "execution_count": 2,
     "metadata": {},
     "output_type": "execute_result"
    }
   ],
   "source": [
    "circuit = QuantumCircuit(1,1)\n",
    "H_prime = Operator([[0.648640115686581, 0.7610952636313663], [0.7610952636313663, -0.648640115686581]])\n",
    "\n",
    "circuit.h(0)\n",
    "circuit.unitary(H_prime, 0, label='H_prime')\n",
    "\n",
    "circuit.measure_all()\n",
    "\n",
    "sim = qkt.Aer.get_backend('qasm_simulator')\n",
    "qobj = qkt.assemble(circuit) \n",
    "result = sim.run(qobj).result() \n",
    "\n",
    "counts = result.get_counts()\n",
    "plot_histogram(counts)"
   ]
  },
  {
   "cell_type": "markdown",
   "id": "amber-premises",
   "metadata": {},
   "source": [
    "When you should have in fact gotten $\\left|0\\right>$ 100% of the time, here you got it only ~99% of the time, and the other times you even obtain the straight opposite : $\\left|1\\right>$."
   ]
  },
  {
   "cell_type": "markdown",
   "id": "hispanic-commonwealth",
   "metadata": {},
   "source": [
    "### Grover's Search Algorithm"
   ]
  },
  {
   "cell_type": "markdown",
   "id": "documentary-recycling",
   "metadata": {},
   "source": [
    "Without going into detail about how the algorithm works ([See here](https://qiskit.org/textbook/ch-algorithms/grover.html#3qubits)). If you have two qubits, you can encode 4 elements of a database by indexing them with $\\left|00\\right>, \\left|01\\right>, \\left|10\\right>, \\left|11\\right>$. \n",
    "\n",
    "You can then apply a succession on gates in order to find one of those elements. In our case, it will be the one marked with $\\left|11\\right>$. Most of those gates will be Hadamard gates that will make states interfere with one another so that all the states interfere destructively except the one we want to measure at the end. You see that quantum interference will be very important if you want the algorithm to work.\n",
    "\n",
    "This is great, because sometimes, the speed it takes to apply all those gates is much faster than the time it would take a classical computer to find the marked element. Especially when the number of elements in the database is great !"
   ]
  },
  {
   "cell_type": "markdown",
   "id": "destroyed-highland",
   "metadata": {},
   "source": [
    "This is what the circuit for Grover's Algorithm looks like :"
   ]
  },
  {
   "cell_type": "code",
   "execution_count": 3,
   "id": "spare-asset",
   "metadata": {
    "jupyter": {
     "source_hidden": true
    }
   },
   "outputs": [
    {
     "data": {
      "image/png": "[encoded data removed]",
      "text/plain": [
       "<Figure size 658.679x204.68 with 1 Axes>"
      ]
     },
     "execution_count": 3,
     "metadata": {},
     "output_type": "execute_result"
    }
   ],
   "source": [
    "n = 2\n",
    "grover_circuit = QuantumCircuit(n)\n",
    "\n",
    "for q in range(n):\n",
    "    grover_circuit.h(q)\n",
    "    \n",
    "grover_circuit.cz(0,1) # Oracle\n",
    "grover_circuit.h(0)\n",
    "grover_circuit.h(1)\n",
    "grover_circuit.z([0,1])\n",
    "grover_circuit.cz(0,1)\n",
    "grover_circuit.h(0)\n",
    "grover_circuit.h(1)\n",
    "\n",
    "grover_circuit.measure_all()\n",
    "\n",
    "grover_circuit.draw('mpl', idle_wires=False)"
   ]
  },
  {
   "cell_type": "markdown",
   "id": "temporal-firewall",
   "metadata": {},
   "source": [
    "The result when you run the circuit, should then give you $ \\left|11\\right> $ 100% of the time, on an ideal quantum computer that is."
   ]
  },
  {
   "cell_type": "code",
   "execution_count": 4,
   "id": "dental-joyce",
   "metadata": {
    "jupyter": {
     "source_hidden": true
    }
   },
   "outputs": [
    {
     "data": {
      "image/png": "[encoded data removed]",
      "text/plain": [
       "<Figure size 504x360 with 1 Axes>"
      ]
     },
     "execution_count": 4,
     "metadata": {},
     "output_type": "execute_result"
    }
   ],
   "source": [
    "sim = qkt.Aer.get_backend('qasm_simulator')\n",
    "qobj = qkt.assemble(grover_circuit) \n",
    "result = sim.run(qobj).result() \n",
    "\n",
    "counts = result.get_counts()\n",
    "plot_histogram(counts)"
   ]
  },
  {
   "cell_type": "markdown",
   "id": "middle-beijing",
   "metadata": {},
   "source": [
    "## Your turn now !"
   ]
  },
  {
   "cell_type": "markdown",
   "id": "smaller-queens",
   "metadata": {},
   "source": [
    "Now it's your turn, you will have to make two waves interfere destructively in order to create a perfect Hadamard gate ! Be careful we will then use your Hadamard gate to implement Grover's algorithm. In other words, the circuit we will create is :"
   ]
  },
  {
   "cell_type": "code",
   "execution_count": 5,
   "id": "yellow-radical",
   "metadata": {
    "jupyter": {
     "source_hidden": true
    }
   },
   "outputs": [
    {
     "data": {
      "image/png": "[encoded data removed]",
      "text/plain": [
       "<Figure size 839.279x204.68 with 1 Axes>"
      ]
     },
     "execution_count": 5,
     "metadata": {},
     "output_type": "execute_result"
    }
   ],
   "source": [
    "n = 2\n",
    "grover_circuit = QuantumCircuit(n)\n",
    "for q in range(n):\n",
    "    grover_circuit.unitary(H_prime, q, label='H_prime')\n",
    "grover_circuit.cz(0,1) # Oracle\n",
    "grover_circuit.unitary(H_prime, 0, label='H_prime')\n",
    "grover_circuit.unitary(H_prime, 1, label='H_prime')\n",
    "grover_circuit.z([0,1])\n",
    "grover_circuit.cz(0,1)\n",
    "grover_circuit.unitary(H_prime, 0, label='H_prime')\n",
    "grover_circuit.unitary(H_prime, 1, label='H_prime')\n",
    "\n",
    "grover_circuit.measure_all()\n",
    "\n",
    "grover_circuit.draw('mpl', idle_wires=False)"
   ]
  },
  {
   "cell_type": "markdown",
   "id": "electoral-raleigh",
   "metadata": {},
   "source": [
    "Where H_prime is <b>your</b> Hadamard gate, so we count on you ! Your goal is that at the end of the algorithm you obtain $ \\left|11\\right> $ 100% of the time. Be careful the less destructively the waves interfere, the less the ouput of the code will be correct. If the waves interfere constructively, then the circuit will even bring you back where you started with both qubits initialized to $\\left|0\\right>$."
   ]
  },
  {
   "cell_type": "code",
   "execution_count": 6,
   "id": "acoustic-extra",
   "metadata": {
    "jupyter": {
     "source_hidden": true
    }
   },
   "outputs": [
    {
     "data": {
      "application/vnd.jupyter.widget-view+json": {
       "model_id": "c94e8a874c1f44d2a94fbda5025a78e4",
       "version_major": 2,
       "version_minor": 0
      },
      "text/plain": [
       "interactive(children=(FloatSlider(value=2.9060039066949055, description='Phase 1:', layout=Layout(width='75%')…"
      ]
     },
     "metadata": {},
     "output_type": "display_data"
    }
   ],
   "source": [
    "import ipywidgets as widgets\n",
    "from IPython.display import display\n",
    "\n",
    "%matplotlib inline\n",
    "from qiskit import QuantumCircuit, QuantumRegister, Aer\n",
    "from qiskit.quantum_info.operators import Operator\n",
    "from qiskit.visualization import plot_histogram\n",
    "from numpy import sin, cos, pi, linspace\n",
    "import qiskit as qkt\n",
    "import matplotlib.pyplot as plt\n",
    "\n",
    "def f(phase_1, phase_2):\n",
    "    figure, ax = plt.subplots(3, constrained_layout=True)\n",
    "    x = linspace(-2*pi, 2*pi, 1000)\n",
    "    f = 1\n",
    "    y_1 = cos(f * x + phase_1)\n",
    "    y_2 = cos(f * x + phase_2)\n",
    "    \n",
    "    ax[0].plot(x, y_1)\n",
    "    ax[0].plot(x, y_2)\n",
    "    \n",
    "    ax[1].set_ylim([-2.2, 2.2])\n",
    "    ax[1].plot(x, y_1+y_2, 'purple')\n",
    "    \n",
    "    dphi = abs(phase_1-phase_2)%(2*pi)\n",
    "    theta = dphi/4\n",
    "    H_prime = Operator([[cos(theta),sin(theta)], \n",
    "                   [sin(theta),-cos(theta)]])\n",
    "    \n",
    "    n = 2\n",
    "    grover_circuit = QuantumCircuit(n)\n",
    "    for q in range(n):\n",
    "        grover_circuit.unitary(H_prime, q, label='H_prime')\n",
    "    grover_circuit.cz(0,1) # Oracle\n",
    "    grover_circuit.unitary(H_prime, 0, label='H_prime')\n",
    "    grover_circuit.unitary(H_prime, 1, label='H_prime')\n",
    "    grover_circuit.z([0,1])\n",
    "    grover_circuit.cz(0,1)\n",
    "    grover_circuit.unitary(H_prime, 0, label='H_prime')\n",
    "    grover_circuit.unitary(H_prime, 1, label='H_prime')\n",
    "    \n",
    "    grover_circuit.measure_all()\n",
    "\n",
    "    sim = qkt.Aer.get_backend('qasm_simulator')\n",
    "    qobj = qkt.assemble(grover_circuit) \n",
    "    result = sim.run(qobj).result() \n",
    "\n",
    "    counts = result.get_counts()\n",
    "    ax[2].bar(counts.keys(),counts.values())\n",
    "\n",
    "phase_1 = widgets.FloatSlider(min=uniform(0, pi/2), max=uniform(2*pi, 5*pi/2), step=0.01, value=uniform(pi-pi/6, pi+pi/6), description='Phase 1:', layout=widgets.Layout(width='75%'))\n",
    "phase_2 = widgets.FloatSlider(min=uniform(0, pi/2), max=uniform(2*pi, 5*pi/2), step=0.01, value=uniform(pi-pi/6, pi+pi/6), description='Phase 2:', layout=widgets.Layout(width='75%'))\n",
    "widgets.interactive(f, phase_1=phase_1, phase_2=phase_2)"
   ]
  }
 ],
 "metadata": {
  "kernelspec": {
   "display_name": "Python 3",
   "language": "python",
   "name": "python3"
  },
  "language_info": {
   "codemirror_mode": {
    "name": "ipython",
    "version": 3
   },
   "file_extension": ".py",
   "mimetype": "text/x-python",
   "name": "python",
   "nbconvert_exporter": "python",
   "pygments_lexer": "ipython3",
   "version": "3.7.6"
  }
 },
 "nbformat": 4,
 "nbformat_minor": 5
}
