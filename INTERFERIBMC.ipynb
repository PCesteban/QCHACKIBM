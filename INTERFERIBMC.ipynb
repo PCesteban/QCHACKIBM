{
 "cells": [
  {
   "cell_type": "code",
   "execution_count": null,
   "id": "spoken-cable",
   "metadata": {},
   "outputs": [],
   "source": [
    "from __future__ import print_function\n",
    "from ipywidgets import interact, interactive, fixed, interact_manual\n",
    "import ipywidgets as widgets"
   ]
  },
  {
   "cell_type": "raw",
   "id": "minor-roots",
   "metadata": {},
   "source": [
    "#Doc part"
   ]
  },
  {
   "cell_type": "code",
   "execution_count": null,
   "id": "canadian-soundtrack",
   "metadata": {},
   "outputs": [],
   "source": [
    "from qiskit import QuantumRegister, ClassicalRegister, QuantumCircuit\n",
    "from numpy import pi\n",
    "\n",
    "qreg_q = QuantumRegister(5, 'q')\n",
    "creg_c = ClassicalRegister(5, 'c')\n",
    "circuit = QuantumCircuit(qreg_q, creg_c)\n",
    "\n",
    "circuit.h(qreg_q[0])\n",
    "circuit.h(qreg_q[1])\n",
    "circuit.h(qreg_q[2])\n",
    "circuit.h(qreg_q[3])\n",
    "circuit.y(qreg_q[4])\n",
    "circuit.h(qreg_q[4])\n",
    "circuit.barrier(qreg_q[4], qreg_q[3], qreg_q[2], qreg_q[1], qreg_q[0])\n",
    "circuit.cx(qreg_q[1], qreg_q[4])\n",
    "circuit.cx(qreg_q[2], qreg_q[4])\n",
    "circuit.barrier(qreg_q[4], qreg_q[3], qreg_q[2], qreg_q[1], qreg_q[0])\n",
    "circuit.h(qreg_q[0])\n",
    "circuit.h(qreg_q[1])\n",
    "circuit.h(qreg_q[2])\n",
    "circuit.h(qreg_q[3])\n",
    "circuit.measure(qreg_q[0], creg_c[0])\n",
    "circuit.measure(qreg_q[1], creg_c[1])\n",
    "circuit.measure(qreg_q[2], creg_c[2])\n",
    "circuit.measure(qreg_q[3], creg_c[3])"
   ]
  },
  {
   "cell_type": "code",
   "execution_count": null,
   "id": "informal-construction",
   "metadata": {
    "jupyter": {
     "source_hidden": true
    }
   },
   "outputs": [],
   "source": [
    "circuit.draw('mpl', idle_wires=False)"
   ]
  },
  {
   "cell_type": "raw",
   "id": "greater-payment",
   "metadata": {},
   "source": [
    "#Gate part "
   ]
  },
  {
   "cell_type": "code",
   "execution_count": 5,
   "id": "simple-female",
   "metadata": {},
   "outputs": [
    {
     "data": {
      "application/vnd.jupyter.widget-view+json": {
       "model_id": "cd7b6d8fafa7442bb30bd4c2a554b306",
       "version_major": 2,
       "version_minor": 0
      },
      "text/plain": [
       "interactive(children=(FloatSlider(value=3.14, description='Phase 1:', layout=Layout(width='75%'), max=6.283185…"
      ]
     },
     "metadata": {},
     "output_type": "display_data"
    }
   ],
   "source": [
    "import ipywidgets as widgets\n",
    "from IPython.display import display\n",
    "\n",
    "%matplotlib inline\n",
    "from qiskit import QuantumCircuit, QuantumRegister, Aer\n",
    "from qiskit.quantum_info.operators import Operator\n",
    "from qiskit.visualization import plot_histogram\n",
    "from numpy import sin, cos, pi, linspace\n",
    "import qiskit as qkt\n",
    "import matplotlib.pyplot as plt\n",
    "\n",
    "def f(phase_1, phase_2):\n",
    "    figure, ax = plt.subplots(3, constrained_layout=True)\n",
    "    x = linspace(-2*pi, 2*pi, 1000)\n",
    "    f = 1\n",
    "    y_1 = cos(f * x + phase_1)\n",
    "    y_2 = cos(f * x + phase_2)\n",
    "    \n",
    "    ax[0].plot(x, y_1)\n",
    "    ax[0].plot(x, y_2)\n",
    "    \n",
    "    ax[1].set_ylim([-2.2, 2.2])\n",
    "    ax[1].plot(x, y_1+y_2, 'purple')\n",
    "    \n",
    "    dphi = abs(phase_1-phase_2)%(2*pi)\n",
    "    theta = dphi/4\n",
    "    circuit = QuantumCircuit(1,1)\n",
    "    H_prime = Operator([[0.648640115686581, 0.7610952636313663], [0.7610952636313663, -0.648640115686581]])\n",
    "\n",
    "    #circuit.h(0)\n",
    "    circuit.unitary(H_prime, 0, label='H_prime')\n",
    "\n",
    "    circuit.measure_all()\n",
    "\n",
    "    circuit.draw('mpl', idle_wires=False)\n",
    "\n",
    "    sim = qkt.Aer.get_backend('qasm_simulator')\n",
    "    qobj = qkt.assemble(circuit) \n",
    "    result = sim.run(qobj).result() \n",
    "\n",
    "    counts = result.get_counts()\n",
    "    ax[2].bar(counts.keys(),counts.values())\n",
    "    print(counts.values())\n",
    "\n",
    "phase_1 = widgets.FloatSlider(min=0, max=2*pi, step=0.01, value=3.14, description='Phase 1:', layout=widgets.Layout(width='75%'))\n",
    "phase_2 = widgets.FloatSlider(min=0, max=2*pi, step=0.01, value=3.14, description='Phase 2:', layout=widgets.Layout(width='75%'))\n",
    "widgets.interactive(f, phase_1=phase_1, phase_2=phase_2)"
   ]
  },
  {
   "cell_type": "code",
   "execution_count": 4,
   "id": "olive-sarah",
   "metadata": {},
   "outputs": [
    {
     "ename": "NameError",
     "evalue": "name 'circuit' is not defined",
     "output_type": "error",
     "traceback": [
      "\u001b[0;31m---------------------------------------------------------------------------\u001b[0m",
      "\u001b[0;31mNameError\u001b[0m                                 Traceback (most recent call last)",
      "\u001b[0;32m<ipython-input-4-dab606730ba4>\u001b[0m in \u001b[0;36m<module>\u001b[0;34m\u001b[0m\n\u001b[0;32m----> 1\u001b[0;31m \u001b[0mcircuit\u001b[0m\u001b[0;34m.\u001b[0m\u001b[0mdraw\u001b[0m\u001b[0;34m(\u001b[0m\u001b[0;34m'mpl'\u001b[0m\u001b[0;34m,\u001b[0m \u001b[0midle_wires\u001b[0m\u001b[0;34m=\u001b[0m\u001b[0;32mFalse\u001b[0m\u001b[0;34m)\u001b[0m\u001b[0;34m\u001b[0m\u001b[0;34m\u001b[0m\u001b[0m\n\u001b[0m",
      "\u001b[0;31mNameError\u001b[0m: name 'circuit' is not defined"
     ]
    }
   ],
   "source": [
    "circuit.draw('mpl', idle_wires=False)"
   ]
  },
  {
   "cell_type": "code",
   "execution_count": 117,
   "id": "peaceful-korean",
   "metadata": {},
   "outputs": [
    {
     "data": {
      "text/html": [
       "<pre style=\"word-wrap: normal;white-space: pre;background: #fff0;line-height: 1.1;font-family: &quot;Courier New&quot;,Courier,monospace\">     ┌───┐   \n",
       "q_0: ┤ H ├─■─\n",
       "     ├───┤ │ \n",
       "q_1: ┤ H ├─■─\n",
       "     └───┘   </pre>"
      ],
      "text/plain": [
       "     ┌───┐   \n",
       "q_0: ┤ H ├─■─\n",
       "     ├───┤ │ \n",
       "q_1: ┤ H ├─■─\n",
       "     └───┘   "
      ]
     },
     "execution_count": 117,
     "metadata": {},
     "output_type": "execute_result"
    }
   ],
   "source": [
    "def grov(dphi):\n",
    "    n = 2\n",
    "    grover_circuit = QuantumCircuit(n)\n",
    "    for q in range(n):\n",
    "        grover_circuit.h(q)\n",
    "    grover_circuit.cz(0,1) # Oracle\n",
    "    grover_circuit.draw()\n",
    "    return grover_circuit\n",
    "\n",
    "gc = grov(0)\n",
    "gc.draw()"
   ]
  },
  {
   "cell_type": "code",
   "execution_count": null,
   "id": "eligible-physics",
   "metadata": {},
   "outputs": [],
   "source": []
  }
 ],
 "metadata": {
  "kernelspec": {
   "display_name": "Python 3",
   "language": "python",
   "name": "python3"
  },
  "language_info": {
   "codemirror_mode": {
    "name": "ipython",
    "version": 3
   },
   "file_extension": ".py",
   "mimetype": "text/x-python",
   "name": "python",
   "nbconvert_exporter": "python",
   "pygments_lexer": "ipython3",
   "version": "3.7.6"
  }
 },
 "nbformat": 4,
 "nbformat_minor": 5
}
