{
 "cells": [
  {
   "cell_type": "code",
   "execution_count": 1,
   "id": "photographic-combat",
   "metadata": {
    "jupyter": {
     "source_hidden": true
    }
   },
   "outputs": [],
   "source": [
    "from __future__ import print_function\n",
    "from ipywidgets import interact, interactive, fixed, interact_manual\n",
    "import ipywidgets as widgets\n",
    "\n",
    "import ipywidgets as widgets\n",
    "from IPython.display import display\n",
    "\n",
    "%matplotlib inline\n",
    "from qiskit import QuantumCircuit, QuantumRegister, Aer\n",
    "from qiskit.quantum_info.operators import Operator\n",
    "from qiskit.visualization import plot_histogram\n",
    "from numpy import sin, cos, pi, linspace\n",
    "import qiskit as qkt\n",
    "import matplotlib.pyplot as plt\n",
    "from random import seed,uniform\n",
    "\n",
    "seed(42)"
   ]
  },
  {
   "cell_type": "markdown",
   "id": "satellite-fireplace",
   "metadata": {},
   "source": [
    "Run this first ⮥ Or just restart and rerun the whole kernel if there is a problem."
   ]
  },
  {
   "cell_type": "markdown",
   "id": "persistent-thunder",
   "metadata": {},
   "source": [
    "# IBM QCHack creative challenge \n",
    "## Team name: Quackers\n",
    "## Project: Make your own Hadamard gate\n",
    "### Team members:\n",
    "-  Esteban Payares\n",
    "-  Vismai Khanderao\n",
    "-  Denis Jankovic "
   ]
  },
  {
   "cell_type": "markdown",
   "id": "framed-demonstration",
   "metadata": {},
   "source": [
    "## Introduction"
   ]
  },
  {
   "cell_type": "markdown",
   "id": "spectacular-wealth",
   "metadata": {},
   "source": [
    "<div style=\"text-align: justify;\">Quantum computing relies on three purely quantum phenomena :\n",
    "\n",
    "        - Superposition\n",
    "        - Interference\n",
    "        - Entanglement\n",
    "    \n",
    "Let's focus for this challenge on interference and see how important it is in quantum algorithms\n",
    "    </div>"
   ]
  },
  {
   "cell_type": "markdown",
   "id": "collectible-central",
   "metadata": {},
   "source": [
    "### Hadamard gate and interference"
   ]
  },
  {
   "cell_type": "markdown",
   "id": "competitive-latex",
   "metadata": {},
   "source": [
    "The Hadamard gate can showcase a good example for quantum interference. A qubit can be in a superposition of its two basis states : $$\\alpha \\left|0\\right> + \\beta \\left|1\\right> \\qquad \\textrm{or} \\qquad \\begin{pmatrix} \\alpha \\\\ \\beta \\end{pmatrix}$$"
   ]
  },
  {
   "cell_type": "markdown",
   "id": "covered-drive",
   "metadata": {},
   "source": [
    "The Hadamard gate $H$ takes the following matrix form :\n",
    "$$ H = \\frac{1}{\\sqrt{2}} \\begin{pmatrix} 1 && 1 \\\\ 1 && -1 \\end{pmatrix} $$"
   ]
  },
  {
   "cell_type": "markdown",
   "id": "developmental-visiting",
   "metadata": {},
   "source": [
    "If one applies an Hadamard gate on a qubit in the simple $\\left|0\\right> = \\begin{pmatrix} 1 \\\\0 \\end{pmatrix}$ state, one obtains a nice superposition of both basis states :\n",
    "$$H\\left|0\\right> = \\frac{1}{\\sqrt{2}} \\left|0\\right> + \\frac{1}{\\sqrt{2}} \\left|1\\right> \\qquad \\textrm{or} \\qquad \\frac{1}{\\sqrt{2}} \\begin{pmatrix} 1 \\\\ 1 \\end{pmatrix}$$\n",
    "\n",
    "And on the  $\\left|1\\right> = \\begin{pmatrix} 1 \\\\0 \\end{pmatrix}$ state, the Hadamard gate gives a slightly different superposition :\n",
    "$$H\\left|1\\right> = \\frac{1}{\\sqrt{2}} \\left|0\\right> - \\frac{1}{\\sqrt{2}} \\left|1\\right> \\qquad \\textrm{or} \\qquad \\frac{1}{\\sqrt{2}} \\begin{pmatrix} 1 \\\\ -1 \\end{pmatrix}$$"
   ]
  },
  {
   "cell_type": "markdown",
   "id": "pretty-graph",
   "metadata": {},
   "source": [
    "Now, if one reapplies a Hadamard gate on either of those states, <b>quantum interference appears :</b>\n",
    "\n",
    "$$H\\left(\\frac{1}{\\sqrt{2}} \\left|0\\right> + \\frac{1}{\\sqrt{2}} \\left|1\\right>\\right) = \\frac{1}{\\sqrt{2}} H\\left|0\\right> + \\frac{1}{\\sqrt{2}} H\\left|1\\right> = \\frac{1}{\\sqrt{2}}\\left(\\frac{1}{\\sqrt{2}} \\left|0\\right> + \\frac{1}{\\sqrt{2}} \\left|1\\right>\\right) + \\frac{1}{\\sqrt{2}} \\left(\\frac{1}{\\sqrt{2}} \\left|0\\right> - \\frac{1}{\\sqrt{2}} \\left|1\\right>\\right) $$"
   ]
  },
  {
   "cell_type": "markdown",
   "id": "electrical-monitor",
   "metadata": {},
   "source": [
    "This simplifies to : $$ \\frac{1}{2} \\left|0\\right> + \\frac{1}{2} \\left|1\\right> + \\frac{1}{2} \\left|0\\right> - \\frac{1}{2} \\left|1\\right> = \\left|0\\right> $$"
   ]
  },
  {
   "cell_type": "markdown",
   "id": "scheduled-publicity",
   "metadata": {},
   "source": [
    "Did you see the interference ? Exactly ! The two $\\frac{1}{2} \\left|0\\right>$ have interfered constructively to give $\\left|0\\right>$ and the two $\\frac{1}{2} \\left|1\\right>$ have interfered destructively and thus they disappeared.\n",
    "\n",
    "NB: If you applied two consecutive $H$ gates on $\\left|1\\right>$ you would have ended up on $\\left|1\\right>$ again, this time the two $\\frac{1}{2} \\left|0\\right>$ would have interfered destructively and the two $\\frac{1}{2} \\left|1\\right>$ have interfered constructively. Try it out!"
   ]
  },
  {
   "cell_type": "markdown",
   "id": "worse-bridges",
   "metadata": {},
   "source": [
    "### When interference fails"
   ]
  },
  {
   "cell_type": "markdown",
   "id": "compliant-recycling",
   "metadata": {},
   "source": [
    "Now to showcase how important interference is, suppose you start with the superposed qubit : \n",
    "$$\\frac{1}{\\sqrt{2}} \\left|0\\right> + \\frac{1}{\\sqrt{2}} \\left|1\\right> $$\n",
    "\n",
    "You want to end up with $\\left|0\\right>$, so you want to make the $\\left|0\\right>$'s interfere constructively while the $\\left|1\\right>$'s interfere destructively. We saw you need a Hadamard gate for this. But let's keep in mind that you need to implement such a gate physically if you want to run the whole thing in the real world.\n",
    "\n",
    "In the physical world, things are rarely perfectly perfect, so the Hadamard gate might not be exactly :\n",
    "$$ H = \\frac{1}{\\sqrt{2}} \\begin{pmatrix} 1 && 1 \\\\ 1 && -1 \\end{pmatrix} \\approx \\begin{pmatrix} 0.71 && 0.71 \\\\ 0.71 && -0.71 \\end{pmatrix} $$\n",
    "\n",
    "It can for example be slighty off, in other words, the constructive and destructive interferences are not exactly totally constructive and destructive. If your Hadamard gate looked something like this :\n",
    "\n",
    "$$ H' = \\begin{pmatrix} 0.65 && 0.76 \\\\ 0.76 && -0.65\\end{pmatrix} $$\n",
    "\n",
    "When you apply $H'$ on your superposed state : "
   ]
  },
  {
   "cell_type": "code",
   "execution_count": 2,
   "id": "violent-elder",
   "metadata": {
    "jupyter": {
     "source_hidden": true
    }
   },
   "outputs": [
    {
     "data": {
      "image/png": "[encoded data removed]",
      "text/plain": [
       "<Figure size 357.679x204.68 with 1 Axes>"
      ]
     },
     "execution_count": 2,
     "metadata": {},
     "output_type": "execute_result"
    }
   ],
   "source": [
    "circuit = QuantumCircuit(1,1)\n",
    "H_prime = Operator([[0.648640115686581, 0.7610952636313663], [0.7610952636313663, -0.648640115686581]])\n",
    "\n",
    "circuit.h(0)\n",
    "circuit.unitary(H_prime, 0, label=\"H'\")\n",
    "\n",
    "circuit.measure_all()\n",
    "\n",
    "circuit.draw(output='mpl')"
   ]
  },
  {
   "cell_type": "markdown",
   "id": "assured-grammar",
   "metadata": {},
   "source": [
    "The measurement series you obtain will look like this :"
   ]
  },
  {
   "cell_type": "code",
   "execution_count": 3,
   "id": "sexual-commons",
   "metadata": {
    "jupyter": {
     "source_hidden": true
    }
   },
   "outputs": [
    {
     "data": {
      "image/png": "[encoded data removed]",
      "text/plain": [
       "<Figure size 504x360 with 1 Axes>"
      ]
     },
     "execution_count": 3,
     "metadata": {},
     "output_type": "execute_result"
    }
   ],
   "source": [
    "sim = qkt.Aer.get_backend('qasm_simulator')\n",
    "qobj = qkt.assemble(circuit) \n",
    "result = sim.run(qobj).result() \n",
    "\n",
    "counts = result.get_counts()\n",
    "plot_histogram(counts)"
   ]
  },
  {
   "cell_type": "markdown",
   "id": "alternate-growth",
   "metadata": {},
   "source": [
    "When you should have in fact gotten $\\left|0\\right>$ 100% of the time, here you got it only ~99% of the time, and the other times you even obtain the straight opposite : $\\left|1\\right>$."
   ]
  },
  {
   "cell_type": "markdown",
   "id": "joint-vermont",
   "metadata": {},
   "source": [
    "### Grover's Search Algorithm"
   ]
  },
  {
   "cell_type": "markdown",
   "id": "revolutionary-start",
   "metadata": {},
   "source": [
    "Without going into detail about how the algorithm works ([See here](https://qiskit.org/textbook/ch-algorithms/grover.html#3qubits)). If you have two qubits, you can encode 4 elements of a database by indexing them with $\\left|00\\right>, \\left|01\\right>, \\left|10\\right>, \\left|11\\right>$. \n",
    "\n",
    "You can then apply a succession of gates in order to find one of those elements. In our case, it will be the one marked with $\\left|11\\right>$. Most of those gates will be Hadamard gates that will make states interfere with one another so that all the states interfere destructively except the one we want to measure at the end. You see that quantum interference will be very important if you want the algorithm to work.\n",
    "\n",
    "This is great, because sometimes, the speed it takes to apply all those gates is much faster than the time it would take a classical computer to find the marked element. Especially when the number of elements in the database is great !"
   ]
  },
  {
   "cell_type": "markdown",
   "id": "grateful-qualification",
   "metadata": {},
   "source": [
    "This is what the circuit for Grover's Algorithm looks like :"
   ]
  },
  {
   "cell_type": "code",
   "execution_count": 4,
   "id": "unexpected-prescription",
   "metadata": {
    "jupyter": {
     "source_hidden": true
    }
   },
   "outputs": [
    {
     "data": {
      "image/png": "[encoded data removed]",
      "text/plain": [
       "<Figure size 658.679x204.68 with 1 Axes>"
      ]
     },
     "execution_count": 4,
     "metadata": {},
     "output_type": "execute_result"
    }
   ],
   "source": [
    "n = 2\n",
    "grover_circuit = QuantumCircuit(n)\n",
    "\n",
    "for q in range(n):\n",
    "    grover_circuit.h(q)\n",
    "    \n",
    "grover_circuit.cz(0,1) # Oracle\n",
    "grover_circuit.h(0)\n",
    "grover_circuit.h(1)\n",
    "grover_circuit.z([0,1])\n",
    "grover_circuit.cz(0,1)\n",
    "grover_circuit.h(0)\n",
    "grover_circuit.h(1)\n",
    "\n",
    "grover_circuit.measure_all()\n",
    "\n",
    "grover_circuit.draw('mpl', idle_wires=False)"
   ]
  },
  {
   "cell_type": "markdown",
   "id": "isolated-trading",
   "metadata": {},
   "source": [
    "The result when you run the circuit, should then give you $ \\left|11\\right> $ 100% of the time, on an ideal quantum computer that is."
   ]
  },
  {
   "cell_type": "code",
   "execution_count": 5,
   "id": "velvet-queen",
   "metadata": {
    "jupyter": {
     "source_hidden": true
    }
   },
   "outputs": [
    {
     "data": {
      "image/png": "[encoded data removed]",
      "text/plain": [
       "<Figure size 504x360 with 1 Axes>"
      ]
     },
     "execution_count": 5,
     "metadata": {},
     "output_type": "execute_result"
    }
   ],
   "source": [
    "sim = qkt.Aer.get_backend('qasm_simulator')\n",
    "qobj = qkt.assemble(grover_circuit) \n",
    "result = sim.run(qobj).result() \n",
    "\n",
    "counts = result.get_counts()\n",
    "plot_histogram(counts)"
   ]
  },
  {
   "cell_type": "markdown",
   "id": "focal-germany",
   "metadata": {},
   "source": [
    "## Your turn now !"
   ]
  },
  {
   "cell_type": "markdown",
   "id": "falling-aircraft",
   "metadata": {},
   "source": [
    "Now it's your turn, you will have to make two waves interfere destructively in order to create a perfect Hadamard gate ! Be careful we will then use your Hadamard gate to implement Grover's algorithm. In other words, the circuit we will create is :"
   ]
  },
  {
   "cell_type": "code",
   "execution_count": 6,
   "id": "funny-blank",
   "metadata": {
    "jupyter": {
     "source_hidden": true
    }
   },
   "outputs": [
    {
     "data": {
      "image/png": "[encoded data removed]",
      "text/plain": [
       "<Figure size 658.679x204.68 with 1 Axes>"
      ]
     },
     "execution_count": 6,
     "metadata": {},
     "output_type": "execute_result"
    }
   ],
   "source": [
    "n = 2\n",
    "grover_circuit = QuantumCircuit(n)\n",
    "for q in range(n):\n",
    "    grover_circuit.unitary(H_prime, q, label=\"H'\")\n",
    "grover_circuit.cz(0,1) # Oracle\n",
    "grover_circuit.unitary(H_prime, 0, label=\"H'\")\n",
    "grover_circuit.unitary(H_prime, 1, label=\"H'\")\n",
    "grover_circuit.z([0,1])\n",
    "grover_circuit.cz(0,1)\n",
    "grover_circuit.unitary(H_prime, 0, label=\"H'\")\n",
    "grover_circuit.unitary(H_prime, 1, label=\"H'\")\n",
    "\n",
    "grover_circuit.measure_all()\n",
    "\n",
    "grover_circuit.draw('mpl', idle_wires=False)"
   ]
  },
  {
   "cell_type": "markdown",
   "id": "rubber-length",
   "metadata": {},
   "source": [
    "Where H' is <b>your</b> Hadamard gate, so we count on you ! Your goal is that at the end of the algorithm you obtain $ \\left|11\\right> $ 100% of the time. Be careful the less destructively the waves interfere, the less the ouput of the code will be correct. If the waves interfere constructively, then the circuit will even bring you back where you started with both qubits initialized to $\\left|0\\right>$."
   ]
  },
  {
   "cell_type": "code",
   "execution_count": 7,
   "id": "peaceful-kidney",
   "metadata": {
    "jupyter": {
     "source_hidden": true
    }
   },
   "outputs": [
    {
     "data": {
      "application/vnd.jupyter.widget-view+json": {
       "model_id": "2b692b55fc7143ff8c5eb48b99214b86",
       "version_major": 2,
       "version_minor": 0
      },
      "text/plain": [
       "interactive(children=(FloatSlider(value=2.9060039066949055, description='Phase 1:', layout=Layout(width='75%')…"
      ]
     },
     "metadata": {},
     "output_type": "display_data"
    }
   ],
   "source": [
    "import ipywidgets as widgets\n",
    "from IPython.display import display\n",
    "\n",
    "%matplotlib inline\n",
    "from qiskit import QuantumCircuit, QuantumRegister, Aer\n",
    "from qiskit.quantum_info.operators import Operator\n",
    "from qiskit.visualization import plot_histogram\n",
    "from numpy import sin, cos, pi, linspace\n",
    "import qiskit as qkt\n",
    "import matplotlib.pyplot as plt\n",
    "\n",
    "def f(phase_1, phase_2):\n",
    "    figure, ax = plt.subplots(3, constrained_layout=True)\n",
    "    x = linspace(-2*pi, 2*pi, 1000)\n",
    "    f = 1\n",
    "    y_1 = cos(f * x + phase_1)\n",
    "    y_2 = cos(f * x + phase_2)\n",
    "    \n",
    "    ax[0].plot(x, y_1)\n",
    "    ax[0].plot(x, y_2)\n",
    "    \n",
    "    ax[1].set_ylim([-2.2, 2.2])\n",
    "    ax[1].plot(x, y_1+y_2, 'purple')\n",
    "    \n",
    "    dphi = abs(phase_1-phase_2)%(2*pi)\n",
    "    theta = dphi/4\n",
    "    H_prime = Operator([[cos(theta),sin(theta)], \n",
    "                   [sin(theta),-cos(theta)]])\n",
    "    \n",
    "    n = 2\n",
    "    grover_circuit = QuantumCircuit(n)\n",
    "    for q in range(n):\n",
    "        grover_circuit.unitary(H_prime, q, label='H_prime')\n",
    "    grover_circuit.cz(0,1) # Oracle\n",
    "    grover_circuit.unitary(H_prime, 0, label='H_prime')\n",
    "    grover_circuit.unitary(H_prime, 1, label='H_prime')\n",
    "    grover_circuit.z([0,1])\n",
    "    grover_circuit.cz(0,1)\n",
    "    grover_circuit.unitary(H_prime, 0, label='H_prime')\n",
    "    grover_circuit.unitary(H_prime, 1, label='H_prime')\n",
    "    \n",
    "    grover_circuit.measure_all()\n",
    "\n",
    "    sim = qkt.Aer.get_backend('qasm_simulator')\n",
    "    qobj = qkt.assemble(grover_circuit) \n",
    "    result = sim.run(qobj).result() \n",
    "\n",
    "    counts = result.get_counts()\n",
    "    ax[2].bar(counts.keys(),counts.values())\n",
    "    ax[2].set_title(\"Results of the measurement\")\n",
    "    ax[2].set_xlabel(\"Index of the element\")\n",
    "    ax[2].set_ylabel(\"Number of occurences\")\n",
    "\n",
    "phase_1 = widgets.FloatSlider(min=uniform(0, pi/2), max=uniform(2*pi, 5*pi/2), step=0.01, value=uniform(pi-pi/6, pi+pi/6), description='Phase 1:', layout=widgets.Layout(width='75%'))\n",
    "phase_2 = widgets.FloatSlider(min=uniform(0, pi/2), max=uniform(2*pi, 5*pi/2), step=0.01, value=uniform(pi-pi/6, pi+pi/6), description='Phase 2:', layout=widgets.Layout(width='75%'))\n",
    "widgets.interactive(f, phase_1=phase_1, phase_2=phase_2)"
   ]
  },
  {
   "cell_type": "markdown",
   "id": "immune-shoot",
   "metadata": {},
   "source": [
    "You control the phases of the blue and orange waves. The sum of the two waves is the purple one. Destructive interference means a flat line. \n",
    "\n",
    "The last graph shows the results of the measurements after 1000 tries. Your goal would then be to obtain a single value : 11, all 1000 times."
   ]
  },
  {
   "cell_type": "markdown",
   "id": "massive-alias",
   "metadata": {},
   "source": [
    "## Conclusion"
   ]
  },
  {
   "cell_type": "markdown",
   "id": "extreme-berkeley",
   "metadata": {},
   "source": [
    "We decided to present the issue of interference in the form of an interactive tutorial so as to popularize how quantum interference plays a crucial role in Quantum Algorithms, and also to showcase what kind of effects on the outputs of a quantum algorithm a lack of correct interferenc has. \n",
    "\n",
    "It also shows through its interactivity the kind of exercise physicist have to go through to calibrate their quantum gates for example."
   ]
  },
  {
   "cell_type": "markdown",
   "id": "plastic-consumer",
   "metadata": {},
   "source": [
    "### How this project can benefit the quantum computing community"
   ]
  },
  {
   "cell_type": "markdown",
   "id": "black-mayor",
   "metadata": {},
   "source": [
    "Drawing analogies is always useful, especially in the domain of quantum computing that deals with so many counter-intuitive phenomena from quantum mechanics.\n",
    "\n",
    "Here it serves first a role of introduction and to give a sense of intuition for how quantum interference works. But it is also useful in a more technical way. This kind of interactive notebooks show how qiskit can be used to simulate imperfect gates (without even considering decoherence yet), or simple \"custom\" gates (noisy or not). For example a certain physical implementation of a sequence of pulses can at the end have an effect corresponding to a non-standard gate, or slightly deviating from a standard gate. One can then use qiskit and interactive Jupyter notebooks to, in a way, forecast what results one can obtain by using such gates.\n",
    "\n",
    "It also shows in a more general way, that sometimes you don't need to be exactly on point with your tuning and you will still get pretty useful results. For example when the interference is not totally destructive but close, you still see a predominance of measurement obtaining the good result. This is a good analogy with NISQ for example, where one can use imperfect quantum computers and still get pertinent results."
   ]
  },
  {
   "cell_type": "markdown",
   "id": "convinced-salem",
   "metadata": {},
   "source": [
    "### Issues faced"
   ]
  },
  {
   "cell_type": "markdown",
   "id": "alleged-visitor",
   "metadata": {},
   "source": [
    "The first issue we faced, was on a pretty basic level: how to use the dephasing created by the user to create a custom quantum gate, and most importantly what function of that dephasing the elements of the matrix should be ?\n",
    "\n",
    "We finally settled on a form with trig functions, always useful when one wants to preserve the unitarity of the matrix. The arguments of the trig functions are such as, that when the iterference is destructive, the matrix take the form of a Hadamard gate, and then strays more and more off as the interference becomes more and more constructive. When the interference is totally constructive, the custom gate is a simple Z-gate. Which is also nice in itself, because one could imagine asking the user to tune two dephasing such as to create a custom H-gate, and then to create a custom Z-gate.\n",
    "\n",
    "The next question was how to showcase the difference in outputs due to incorrect dephasings, well we first just wanted to implement two consecutive imperfect Hadamard gates and sow the output. However that ended up not working, since even imperfect, our Hadamard gate applied twice, nullifies its own action, no matter the dephasing.\n",
    "\n",
    "We then decide to implement a simple 2-qubit Grover Algorithm, since it is easy to simulate and is very sensitive to interference.\n",
    "\n",
    "One can however easily imagine changing the algorithm implemented, the number and type of imperfect gates that need to be tuned by the user, etc... to maybe obtain even different outputs and even more interactivity."
   ]
  },
  {
   "cell_type": "markdown",
   "id": "chicken-bacon",
   "metadata": {},
   "source": [
    "\n",
    "The second issue, on a more technical level, was the refresh rate of Jupyterlab and it's interactive tools. We first wanted to make a timing-based game, where the two waves swept back and forth and the user needed to stop it by timing their click on a button. Then, after the click, the circuit is simulated, and the user sees how well they have done.\n",
    "\n",
    "However that ended up being very difficult, since the refresh rate of the interactive widget would either make the animations laggy, or the click delayed with the animation. We tried even to go through JS to do the interactive interface, with little to no avail. We finally settled on a more manual approach, where the user has to set-up sliders themselves to obtain the best interference."
   ]
  },
  {
   "cell_type": "markdown",
   "id": "adjusted-document",
   "metadata": {},
   "source": [
    "### Final Words"
   ]
  },
  {
   "cell_type": "markdown",
   "id": "derived-question",
   "metadata": {},
   "source": [
    "We greatly enjoyed doing this project, we didn't know each other before the hackathon, but met through the qchack discord, and ended up working quite well together. "
   ]
  },
  {
   "cell_type": "markdown",
   "id": "medium-needle",
   "metadata": {},
   "source": [
    "We want to thank all the organizers, IBM mentors, qBraid mentors. They really made this online event great and very efficient."
   ]
  }
 ],
 "metadata": {
  "kernelspec": {
   "display_name": "Python 3",
   "language": "python",
   "name": "python3"
  },
  "language_info": {
   "codemirror_mode": {
    "name": "ipython",
    "version": 3
   },
   "file_extension": ".py",
   "mimetype": "text/x-python",
   "name": "python",
   "nbconvert_exporter": "python",
   "pygments_lexer": "ipython3",
   "version": "3.7.6"
  }
 },
 "nbformat": 4,
 "nbformat_minor": 5
}
